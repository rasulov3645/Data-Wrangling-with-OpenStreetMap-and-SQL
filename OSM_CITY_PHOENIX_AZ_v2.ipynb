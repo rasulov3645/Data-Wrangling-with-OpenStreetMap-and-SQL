{
 "cells": [
  {
   "cell_type": "markdown",
   "metadata": {},
   "source": [
    "# Data Wrangling with OpenStreetMaps and SQL"
   ]
  },
  {
   "cell_type": "markdown",
   "metadata": {},
   "source": [
    "OpenStreetMap is a volunteered geographic information project that runs on open source collaboration to provide free and editable maps to everyone on this planet (assuming they have internet access). For more information, see <a href=\"https://en.wikipedia.org/wiki/OpenStreetMap\">OpenStreetMap: Wikipedia Article</a>.\n",
    "\n",
    "In OpenStreetMap, data is stored in an xml format (for more information, see <a href=\"http://wiki.openstreetmap.org/wiki/OSM_XML\">OpenStreetMap xml-Wiki</a>)\n",
    "\n",
    "In many cases of user generated content, the probability of errors or inconsistencies in data quality is given. The goal of this project is to apply data wrangling techniques:\n",
    "\n",
    "<ul>\n",
    "  <li>Audit map data of the city of Phoenix Arizona</li>\n",
    "  <li>Fix problems encountered and enhance data quality</li>\n",
    "  <li>Import data into an sqlite database to perform some exploratory queries</li>\n",
    "</ul>\n"
   ]
  },
  {
   "cell_type": "markdown",
   "metadata": {},
   "source": [
    "### Chosen Map Area"
   ]
  },
  {
   "cell_type": "markdown",
   "metadata": {},
   "source": [
    "The chosen map area is the <a href=\"http://www.openstreetmap.org/export#map=10/33.6049/-112.1248\">City of Phoenix AZ (USA)</a> - latitude 34.1141 and 33.0938, longitude 113.2031 and -111.0471. I have chosen Phoenix for this project because as a teenager I have lived there and know the city quite well.\n",
    "\n",
    "The data for this project was retrieved from <a href=\"https://mapzen.com/data/metro-extracts/metro/phoenix_arizona/\">Mapzen - Metro Extracts</a>. The overall filesize of the unzipped xml file is ~605mb."
   ]
  },
  {
   "cell_type": "markdown",
   "metadata": {},
   "source": [
    "### Auditing the Data"
   ]
  },
  {
   "cell_type": "markdown",
   "metadata": {},
   "source": [
    "After downloading the xml file the data wrangling process was initiated by looking at\n",
    "\n",
    "<ul>\n",
    "  <li>Street Names</li>\n",
    "  <li>Postal Codes</li>\n",
    "  <li>Phone Numbers</li>\n",
    "</ul>\n",
    "\n",
    "The goal was to assess the data quality for each of the three and to enhance the data quality by implementing changes for\n",
    "a more standardized way of information display."
   ]
  },
  {
   "cell_type": "markdown",
   "metadata": {},
   "source": [
    "### Problem with the Data - Street Name Abbreviations"
   ]
  },
  {
   "cell_type": "markdown",
   "metadata": {},
   "source": [
    "For Street names a non consistent usage of street name abbreviations was expected.\n",
    "\n",
    "In regard to data cleaning the plan for action was as followed:\n",
    "\n",
    "<ul>\n",
    "  <li>Use regex to match common street name endings (like Road, Drive, Street..)</li>\n",
    "  <li>Create a list of street name endings that do not need to be cleaned (like Road, Drive, Street..)\n",
    "  <li>Parse through the XML looking for tag elements with k=\"addr:street\" attributes</li>\n",
    "  <li>Build key dictionary with matches of the street types (with regex) and a set of street names with identical keys</li>\n",
    "  <li>Create a mapping for street name cleaning\n",
    "  <li>Build a function that will clean street names \n",
    "</ul>\n",
    "\n",
    "\n"
   ]
  },
  {
   "cell_type": "code",
   "execution_count": 13,
   "metadata": {
    "collapsed": true
   },
   "outputs": [
    {
     "name": "stdout",
     "output_type": "stream",
     "text": [
      "East Pinnacle Peak Road => East Pinnacle Peak Road => East Pinnacle Peak Road\n",
      "N. Hayden Road => N. Hayden Road => North Hayden Road\n",
      "West Happy Valley Rd => West Happy Valley Road => West Happy Valley Road\n",
      "E Warner Rd => E Warner Road => East Warner Road\n",
      "East Williamsfield Rd => East Williamsfield Road => East Williamsfield Road\n",
      "E. Elliot Rd => E. Elliot Road => East Elliot Road\n",
      "N Hayden Rd => N Hayden Road => North Hayden Road\n",
      "S Watson Rd => S Watson Road => South Watson Road\n",
      "W Camelback Rd => W Camelback Road => West Camelback Road\n",
      "N Scottsdale Rd => N Scottsdale Road => North Scottsdale Road\n",
      "E Baseline Rd => E Baseline Road => East Baseline Road\n",
      "E. Marilyn Rd. => E. Marilyn Road => East Marilyn Road\n",
      "N 32nd => N 32nd => North 32nd\n",
      "East Avenue of the Fountains => East Avenue of the Fountains => East Avenue of the Fountains\n",
      "E. Brown RD => E. Brown Road => East Brown Road\n",
      "South Sirrine => South Sirrine => South Sirrine\n",
      "East Highway 287 => East Highway 287 => East Highway 287\n",
      "17054 W Post D => 17054 W Post Drive => 17054 W Post Drive\n",
      "N. Central Avenue => N. Central Avenue => North Central Avenue\n",
      "East Rio Salado Pkwy => East Rio Salado Parkway => East Rio Salado Parkway\n",
      "3514 N. Power Road => 3514 N. Power Road => 3514 N. Power Road\n",
      "E Baseline Rd => E Baseline Road => East Baseline Road\n",
      "S Alma School Rd => S Alma School Road => South Alma School Road\n",
      "Start => Start => Start\n",
      "Tatum Blvd. => Tatum Boulevard => Tatum Boulevard\n",
      "North 28th Drive => North 28th Drive => North 28th Drive\n",
      "South Westwood => South Westwood => South Westwood\n",
      "North Westwood => North Westwood => North Westwood\n",
      "Windsor => Windsor => Windsor\n",
      "North 25th Glen => North 25th Glendale => North 25th Glendale\n",
      "North Paradise Village Parkway West => North Paradise Village Parkway West => North Paradise Village Parkway West\n",
      "S. Superstition Mountain Road => S. Superstition Mountain Road => South Superstition Mountain Road\n",
      "West Calle Rosa => West Calle Rosa => West Calle Rosa\n",
      "East Washington => East Washington => East Washington\n",
      "N 51st Ave => N 51st Avenue => North 51st Avenue\n",
      "South Wall street => South Wall Street => South Wall Street\n",
      "N Centennial Way => N Centennial Way => North Centennial Way\n",
      "East Doubletree Ranch Road => East Doubletree Ranch Road => East Doubletree Ranch Road\n",
      "North Grand => North Grand => North Grand\n",
      "East Teton Circle => East Teton Circle => East Teton Circle\n",
      "East Yorkshire Circle => East Yorkshire Circle => East Yorkshire Circle\n",
      "South Revere Circle => South Revere Circle => South Revere Circle\n",
      "South Arizona Mills Circle => South Arizona Mills Circle => South Arizona Mills Circle\n",
      "North Jason Lopez Circle => North Jason Lopez Circle => North Jason Lopez Circle\n",
      "North 92nd Circle => North 92nd Circle => North 92nd Circle\n",
      "East Toh Vee Circle => East Toh Vee Circle => East Toh Vee Circle\n",
      "East Mateo Circle => East Mateo Circle => East Mateo Circle\n",
      "5810 Alameda Rd. => 5810 Alameda Road => 5810 Alameda Road\n",
      "N. Cave Creek Rd. => N. Cave Creek Road => North Cave Creek Road\n",
      "West Happy Vally Rd. => West Happy Vally Road => West Happy Vally Road\n",
      "N. Gilbert Road, => N. Gilbert Road, => North Gilbert Road,\n",
      "South Highway 85 => South Highway 85 => South Highway 85\n",
      "MC 85 => MC 85 => MC 85\n",
      "South Chestnut => South Chestnut => South Chestnut\n",
      "East Gammage Park => East Gammage Park => East Gammage Park\n",
      "West Camino de Oro => West Camino de Oro => West Camino de Oro\n",
      "E Thomas Rd => E Thomas Road => East Thomas Road\n",
      "E Florence Blvd => E Florence Boulevard => East Florence Boulevard\n",
      "Watermelon => Watermelon => Watermelon\n",
      "N. 19th Ave. => N. 19th Avenue => North 19th Avenue\n",
      "Doubletree Ranch Rd. => Doubletree Ranch Road => Doubletree Ranch Road\n",
      "N. 19th Avenue => N. 19th Avenue => North 19th Avenue\n",
      "North Civic Center Plaza => North Civic Center Plaza => North Civic Center Plaza\n",
      "N. 19th Avenue => N. 19th Avenue => North 19th Avenue\n",
      "W Elliot Rd => W Elliot Road => West Elliot Road\n",
      "South Cheshire => South Cheshire => South Cheshire\n",
      "South Sunnyvale => South Sunnyvale => South Sunnyvale\n",
      "North Pima => North Pima => North Pima\n",
      "S Davis => S Davis => South Davis\n",
      "E Baseline Rd => E Baseline Road => East Baseline Road\n",
      "N 27th Ave => N 27th Avenue => North 27th Avenue\n",
      "Hum Rd => Hum Road => Hum Road\n",
      "E. Warner Rd => E. Warner Road => East Warner Road\n",
      "East Baseline Road => East Baseline Road => East Baseline Road\n",
      "North 90th => North 90th => North 90th\n",
      "Rio Salado Parkway => Rio Salado Parkway => Rio Salado Parkway\n",
      "North Sunrise Point => North Sunrise Point => North Sunrise Point\n",
      "South Spruce => South Spruce => South Spruce\n",
      "W. Camelback => W. Camelback => West Camelback\n",
      "South Macdonald => South Macdonald => South Macdonald\n",
      "North Power Road => North Power Road => North Power Road\n",
      "North Pasadena => North Pasadena => North Pasadena\n",
      "BIA Route 68 => BIA Route 68 => BIA Route 68\n",
      "South Higley Road => South Higley Road => South Higley Road\n",
      "East Paradise Village Parkway North => East Paradise Village Parkway North => East Paradise Village Parkway North\n",
      "East Baseline Road A109-187 => East Baseline Road A109-187 => East Baseline Road A109-187\n",
      "North Date => North Date => North Date\n",
      "Florence Blvd. => Florence Boulevard => Florence Boulevard\n",
      "Apache Blvd. => Apache Boulevard => Apache Boulevard\n",
      "West Arrowhead Towne Center => West Arrowhead Towne Center => West Arrowhead Towne Center\n",
      "W. Gu u Ki => W. Gu u Ki => West Gu u Ki\n",
      "W 18th => W 18th => West 18th\n",
      "W McNeil => W McNeil => West McNeil\n",
      "E. Frontier => E. Frontier => East Frontier\n",
      "South Emerson => South Emerson => South Emerson\n",
      "West Village Parkway => West Village Parkway => West Village Parkway\n",
      "West Pebble Creek Parkway => West Pebble Creek Parkway => West Pebble Creek Parkway\n",
      "East Pima Center Parkway => East Pima Center Parkway => East Pima Center Parkway\n",
      "West Rio Salado Parkway => West Rio Salado Parkway => West Rio Salado Parkway\n",
      "South Santan Village Parkway => South Santan Village Parkway => South Santan Village Parkway\n",
      "North Barnes Parkway => North Barnes Parkway => North Barnes Parkway\n",
      "East McCormick Parkway => East McCormick Parkway => East McCormick Parkway\n",
      "North Metro Parkway => North Metro Parkway => North Metro Parkway\n",
      "North Galvin Parkway => North Galvin Parkway => North Galvin Parkway\n",
      "East Greenway Parkway => East Greenway Parkway => East Greenway Parkway\n",
      "E. Longbow Parkway => E. Longbow Parkway => East Longbow Parkway\n",
      "West Lake Pleasant Parkway => West Lake Pleasant Parkway => West Lake Pleasant Parkway\n",
      "East Rio Salado Parkway => East Rio Salado Parkway => East Rio Salado Parkway\n",
      "North Thompson Peak Parkway => North Thompson Peak Parkway => North Thompson Peak Parkway\n",
      "North Maryvale Parkway => North Maryvale Parkway => North Maryvale Parkway\n",
      "North Legend Trail Parkway => North Legend Trail Parkway => North Legend Trail Parkway\n",
      "North John Wayne Parkway => North John Wayne Parkway => North John Wayne Parkway\n",
      "S. => S. => South\n",
      "South Lewis => South Lewis => South Lewis\n",
      "North Lewis => North Lewis => North Lewis\n",
      "W Grand Ave => W Grand Avenue => West Grand Avenue\n",
      "Noth Central Ave => Noth Central Avenue => Noth Central Avenue\n",
      "E Terrace Ave => E Terrace Avenue => East Terrace Avenue\n",
      "North Arizona Ave => North Arizona Avenue => North Arizona Avenue\n",
      "E Garnet Ave => E Garnet Avenue => East Garnet Avenue\n",
      "S Buena Vista Ave => S Buena Vista Avenue => South Buena Vista Avenue\n",
      "South Forest Ave => South Forest Avenue => South Forest Avenue\n",
      "W. Vineyard Ave => W. Vineyard Avenue => West Vineyard Avenue\n",
      "S Farmer Ave => S Farmer Avenue => South Farmer Avenue\n",
      "South Longmore Ave => South Longmore Avenue => South Longmore Avenue\n",
      "West Grove Ave => West Grove Avenue => West Grove Avenue\n",
      "North Via Paseo del Sur => North Via Paseo del Sur => North Via Paseo del Sur\n",
      "West Happy Valley Road => West Happy Valley Road => West Happy Valley Road\n",
      "West Highway 238 => West Highway 238 => West Highway 238\n",
      "East Via Linda => East Via Linda => East Via Linda\n",
      "South Valencia => South Valencia => South Valencia\n",
      "Glendale => Glendale => Glendale\n",
      "E Camelback Road => E Camelback Road => East Camelback Road\n",
      "East Via Estrella => East Via Estrella => East Via Estrella\n",
      "North 51st Avenue => North 51st Avenue => North 51st Avenue\n",
      "W Union Hills Dr => W Union Hills Drive => West Union Hills Drive\n",
      "South Hall => South Hall => South Hall\n",
      "North Arboleda => North Arboleda => North Arboleda\n",
      "N Arboleda => N Arboleda => North Arboleda\n",
      "W Union Hills Dr. => W Union Hills Drive => West Union Hills Drive\n",
      "East Marilyn Road => East Marilyn Road => East Marilyn Road\n",
      "N Dysart Rd => N Dysart Road => North Dysart Road\n",
      "W Arrowhead Towne Ctr => W Arrowhead Towne Centre => West Arrowhead Towne Centre\n",
      "North Avondale Boulavard => North Avondale Boulevard => North Avondale Boulevard\n",
      "South Longmore => South Longmore => South Longmore\n",
      "East Sky Harbor Circle South => East Sky Harbor Circle South => East Sky Harbor Circle South\n",
      "North Paradise Village Parkway South => North Paradise Village Parkway South => North Paradise Village Parkway South\n",
      "North Markdale => North Markdale => North Markdale\n",
      "South Dobson => South Dobson => South Dobson\n",
      "East Via De Commercio => East Via De Commercio => East Via De Commercio\n",
      "North Camino del Sol => North Camino del Sol => North Camino del Sol\n",
      "West Camino del Sol => West Camino del Sol => West Camino del Sol\n",
      "North 7th => North 7th => North 7th\n",
      "East Indian Bend => East Indian Bend => East Indian Bend\n",
      "N. 85th => N. 85th => North 85th\n",
      "E Chandler Blvd => E Chandler Boulevard => East Chandler Boulevard\n",
      "1900 West Chandler Blvd => 1900 West Chandler Boulevard => 1900 West Chandler Boulevard\n"
     ]
    }
   ],
   "source": [
    "for street_type, ways in street_types.iteritems(): \n",
    "        for name in ways:\n",
    "            if \"Suite\"  in name:\n",
    "                name = name.split(\", Suite\")[0].strip()\n",
    "            if \"#\" in name:\n",
    "                name = name.split(\" #\")[0].strip()\n",
    "            if \",\" in name:\n",
    "                name = name.split(\", \")[0].strip()\n",
    "            if \"Suite\" in name:\n",
    "                name = name.split(\" Suite\")[0].strip()\n",
    "            if \"Building\" in name:\n",
    "                name = name.split(\" Building\")[0].strip()\n",
    "            if \"Ste\" in name:\n",
    "                name = name.split(\" Ste\")[0].strip()\n",
    "            if \"St\" in name:\n",
    "                name = name.split(\" St\")[0].strip()\n",
    "            name_improv_first = update_name(name, mapping, street_type_re)\n",
    "            name_improv_sec = update_name(name_improv_first, mapping2, street_type_pre)\n",
    "            \n",
    "            print name, \"=>\", name_improv_first, \"=>\", name_improv_sec"
   ]
  },
  {
   "cell_type": "markdown",
   "metadata": {},
   "source": [
    "<ul>\n",
    "  <li>N Hayden Rd => N Hayden Road => North Hayden Road</li>\n",
    "  <li>S Watson Rd => S Watson Road => South Watson Road</li>\n",
    "  <li>E. Elliot Rd => E. Elliot Road => East Elliot Road</li>\n",
    "  <li>...</li>\n",
    "</ul>"
   ]
  },
  {
   "cell_type": "markdown",
   "metadata": {},
   "source": [
    "This updated all substrings, such that: “S Watson Rd” becomes: “South Watson Road”. It is important to note that this does not mean, all street adresses for the city of Phoenix have been cleaned now. We used a certain lens via regex and expected street type endings to retrieve a set of street types to change accordingly. There is still a blindspot depending on the lens chosen."
   ]
  },
  {
   "cell_type": "markdown",
   "metadata": {},
   "source": [
    "### Problem with the Data - Postal Codes"
   ]
  },
  {
   "cell_type": "markdown",
   "metadata": {},
   "source": [
    "For Postal Codes we used a similar approach as in the Street Name Cleaning. The Goal was to only have 5 Digits Postal Codes \n",
    "without any additional info."
   ]
  },
  {
   "cell_type": "markdown",
   "metadata": {},
   "source": [
    "The changes were similar to the following:\n",
    "\n",
    "<ul>\n",
    "  <li>AZ 85023 => 85023</li>\n",
    "  <li>85007, AZ => 85007</li>\n",
    "  <li>82158, 123 => 82158</li>\n",
    "  <li>...</li>\n",
    "</ul>"
   ]
  },
  {
   "cell_type": "markdown",
   "metadata": {
    "collapsed": true
   },
   "source": [
    "### Problem with the Data - Phone Numbers"
   ]
  },
  {
   "cell_type": "markdown",
   "metadata": {
    "collapsed": true
   },
   "source": [
    "In the same way, Phone Numbers were cleaned so that the info was displayed as \"XXX XXX XXXX\". All in all, the phone numbers were quite messy. "
   ]
  },
  {
   "cell_type": "markdown",
   "metadata": {},
   "source": [
    "The changes were similar to the following:\n",
    "\n",
    "<ul>\n",
    "  <li>623-546-1640 => 623 546 1640</li>\n",
    "  <li>+1 4806714584 => 480 671 4584</li>\n",
    "  <li>(602) 734 5106 => 602 734 5106</li>\n",
    "  <li>...</li>\n",
    "</ul>"
   ]
  },
  {
   "cell_type": "markdown",
   "metadata": {},
   "source": [
    "In the next step, we create 5 csv files for nodes_path, node_tags, ways, ways_nodes and ways_tags to later insert into sql. "
   ]
  },
  {
   "cell_type": "markdown",
   "metadata": {},
   "source": [
    "### Overview of the Data"
   ]
  },
  {
   "cell_type": "markdown",
   "metadata": {},
   "source": [
    "#### File Sizes"
   ]
  },
  {
   "cell_type": "code",
   "execution_count": 85,
   "metadata": {
    "collapsed": false
   },
   "outputs": [
    {
     "name": "stdout",
     "output_type": "stream",
     "text": [
      "The file downloaded for the map data of the city of Phoenix is 619.829206 MB\n",
      "The csv file for nodes is 225.59075 MB\n",
      "The csv file for nodes_tags is 10.902282 MB\n",
      "The csv file for ways is 21.286642 MB\n",
      "The csv file for ways_nodes is 79.504337 MB\n",
      "The csv file for ways_tags is 66.319958 MB\n",
      "The db file for OpenstreetMap_Phx  is 368.549888 MB\n"
     ]
    }
   ],
   "source": [
    "import os\n",
    "print 'The file downloaded for the map data of the city of Phoenix is {} MB'.format(os.path.getsize(\"Phoenix_Arizona.osm\")/1.0e6)\n",
    "print 'The csv file for nodes is {} MB'.format(os.path.getsize(\"nodes.csv\")/1.0e6)\n",
    "print 'The csv file for nodes_tags is {} MB'.format(os.path.getsize(\"nodes_tags.csv\")/1.0e6)\n",
    "print 'The csv file for ways is {} MB'.format(os.path.getsize(\"ways.csv\")/1.0e6)\n",
    "print 'The csv file for ways_nodes is {} MB'.format(os.path.getsize(\"ways_nodes.csv\")/1.0e6)\n",
    "print 'The csv file for ways_tags is {} MB'.format(os.path.getsize(\"ways_tags.csv\")/1.0e6)\n",
    "print 'The db file for OpenstreetMap_Phx  is {} MB'.format(os.path.getsize(\"OpenStreetMap_Phx.db\")/1.0e6)"
   ]
  },
  {
   "cell_type": "markdown",
   "metadata": {},
   "source": [
    "#### Number of Nodes"
   ]
  },
  {
   "cell_type": "code",
   "execution_count": 90,
   "metadata": {
    "collapsed": false
   },
   "outputs": [
    {
     "name": "stdout",
     "output_type": "stream",
     "text": [
      "Number of nodes is:[(2643915,)]\n"
     ]
    }
   ],
   "source": [
    "sqlite> SELECT COUNT(*) FROM nodes;"
   ]
  },
  {
   "cell_type": "markdown",
   "metadata": {},
   "source": [
    "The number of nodes is 2643915."
   ]
  },
  {
   "cell_type": "markdown",
   "metadata": {},
   "source": [
    "#### Number of Ways"
   ]
  },
  {
   "cell_type": "code",
   "execution_count": 91,
   "metadata": {
    "collapsed": false
   },
   "outputs": [
    {
     "name": "stdout",
     "output_type": "stream",
     "text": [
      "Number of ways is:[(349223,)]\n"
     ]
    }
   ],
   "source": [
    "sqlite>   SELECT COUNT(*) FROM ways;"
   ]
  },
  {
   "cell_type": "markdown",
   "metadata": {},
   "source": [
    "#### Number of Unique Users"
   ]
  },
  {
   "cell_type": "code",
   "execution_count": 89,
   "metadata": {
    "collapsed": false
   },
   "outputs": [
    {
     "name": "stdout",
     "output_type": "stream",
     "text": [
      "Number of unique users is:[(1107,)]\n"
     ]
    }
   ],
   "source": [
    "sqlite> SELECT COUNT(DISTINCT(e.uid))          \n",
    "        FROM (SELECT uid FROM nodes UNION ALL SELECT uid FROM ways) e;"
   ]
  },
  {
   "cell_type": "markdown",
   "metadata": {},
   "source": [
    "The number of unique users is 1107."
   ]
  },
  {
   "cell_type": "markdown",
   "metadata": {},
   "source": [
    "#### Top 10 contributing Users"
   ]
  },
  {
   "cell_type": "code",
   "execution_count": 92,
   "metadata": {
    "collapsed": false
   },
   "outputs": [
    {
     "name": "stdout",
     "output_type": "stream",
     "text": [
      "Number of unique users are:\n",
      "[(u'Dr Kludge', 1073635),\n",
      " (u'TheDutchMan13', 320948),\n",
      " (u'$user', 200492),\n",
      " (u'tomthepom', 114751),\n",
      " (u'adenium', 100080),\n",
      " (u'CartoCrazy', 71274),\n",
      " (u'woodpeck_fixbot', 63224),\n",
      " (u'kghazi', 61994),\n",
      " (u'namannik', 45075),\n",
      " (u'Adam Martin', 40184)]\n"
     ]
    }
   ],
   "source": [
    "sqlite> SELECT e.user, COUNT(*) as num\n",
    "        FROM (SELECT user FROM nodes UNION ALL SELECT user FROM ways) e\n",
    "        GROUP BY e.user\n",
    "        ORDER BY num DESC\n",
    "        LIMIT 10;"
   ]
  },
  {
   "cell_type": "markdown",
   "metadata": {},
   "source": [
    "#### Number of Unique Users that appear only 5 times or less"
   ]
  },
  {
   "cell_type": "code",
   "execution_count": 95,
   "metadata": {
    "collapsed": false
   },
   "outputs": [
    {
     "name": "stdout",
     "output_type": "stream",
     "text": [
      "Number of unique users only appearing once are:\n",
      "[(392,)]\n"
     ]
    }
   ],
   "source": [
    "sqlite> SELECT COUNT(*) \n",
    "        FROM\n",
    "        (SELECT e.user, COUNT(*) as num\n",
    "         FROM (SELECT user FROM nodes UNION ALL SELECT user FROM ways) as e\n",
    "         GROUP BY e.user\n",
    "         HAVING num<=5)  u;"
   ]
  },
  {
   "cell_type": "markdown",
   "metadata": {},
   "source": [
    "The number of 392 is quite low compared to a total of 1107 unique users (~34 Percent). This seems to indicate that Phoenix has a quite active user base with a majority of unique users making larger contributions."
   ]
  },
  {
   "cell_type": "markdown",
   "metadata": {},
   "source": [
    "#### Top 5 religious amenities"
   ]
  },
  {
   "cell_type": "code",
   "execution_count": 99,
   "metadata": {
    "collapsed": false
   },
   "outputs": [
    {
     "name": "stdout",
     "output_type": "stream",
     "text": [
      "[(u'christian', 560),\n",
      " (u'jewish', 4),\n",
      " (u'bahai', 2),\n",
      " (u'buddhist', 1),\n",
      " (u'muslim', 1)]\n"
     ]
    }
   ],
   "source": [
    "sqlite> SELECT nodes_tags.value, COUNT(*) as num\n",
    "        FROM nodes_tags \n",
    "        JOIN (SELECT DISTINCT(id) FROM nodes_tags WHERE value='place_of_worship') as i\n",
    "        ON nodes_tags.id=i.id\n",
    "        WHERE nodes_tags.key='religion'\n",
    "        GROUP BY nodes_tags.value\n",
    "        ORDER BY num DESC\n",
    "        LIMIT 5;"
   ]
  },
  {
   "cell_type": "markdown",
   "metadata": {},
   "source": [
    "At least by looking at the OpenStreetMap Data, Phoenix does not have many non-Christian amenities. Only about 1,4 Percent of the\n",
    "TOP 5 religious amenities are non Christian."
   ]
  },
  {
   "cell_type": "markdown",
   "metadata": {},
   "source": [
    "#### TOP 10 Cuisines"
   ]
  },
  {
   "cell_type": "code",
   "execution_count": 100,
   "metadata": {
    "collapsed": false
   },
   "outputs": [
    {
     "name": "stdout",
     "output_type": "stream",
     "text": [
      "[(u'pizza', 47),\n",
      " (u'american', 42),\n",
      " (u'mexican', 42),\n",
      " (u'sandwich', 27),\n",
      " (u'italian', 25),\n",
      " (u'burger', 21),\n",
      " (u'chinese', 15),\n",
      " (u'sushi', 11),\n",
      " (u'asian', 8),\n",
      " (u'greek', 7)]\n"
     ]
    }
   ],
   "source": [
    "sqlite> SELECT nodes_tags.value, COUNT(*) as num\n",
    "        FROM nodes_tags \n",
    "        JOIN (SELECT DISTINCT(id) FROM nodes_tags WHERE value='restaurant') as i\n",
    "        ON nodes_tags.id=i.id\n",
    "        WHERE nodes_tags.key='cuisine'\n",
    "        GROUP BY nodes_tags.value\n",
    "        ORDER BY num DESC\n",
    "        LIMIT 10;"
   ]
  },
  {
   "cell_type": "markdown",
   "metadata": {},
   "source": [
    "#### TOP 10 Leisure Ameneties"
   ]
  },
  {
   "cell_type": "code",
   "execution_count": 101,
   "metadata": {
    "collapsed": false
   },
   "outputs": [
    {
     "name": "stdout",
     "output_type": "stream",
     "text": [
      "[(u'swimming_pool', 1506),\n",
      " (u'playground', 387),\n",
      " (u'park', 322),\n",
      " (u'picnic_table', 129),\n",
      " (u'sports_centre', 37),\n",
      " (u'pitch', 27),\n",
      " (u'slipway', 21),\n",
      " (u'water_park', 8),\n",
      " (u'fitness_centre', 7),\n",
      " (u'marina', 5)]\n"
     ]
    }
   ],
   "source": [
    "sqlite> SELECT nodes_tags.value, count(*) as num\n",
    "        FROM nodes_tags \n",
    "        WHERE nodes_tags.key=='leisure'\n",
    "        GROUP BY nodes_tags.value\n",
    "        ORDER BY num DESC"
   ]
  },
  {
   "cell_type": "markdown",
   "metadata": {},
   "source": [
    "### Other Ideas about the Dataset"
   ]
  },
  {
   "cell_type": "markdown",
   "metadata": {
    "collapsed": true
   },
   "source": [
    "Exploring the dataset I am curious about additional information that is currently not included in the data - for example - What are average housing prices in different areas of the city of Phoenix? Which playground are of high quality and which might need additional renovation and are therefore less recommended going to with the kids?\n",
    "\n",
    "In general, this could be thought as a recommendation system with ratings on restaurants and other amenities. The benefit of such a recommendation system is straightforward - having an idea of places worthy to go / or even live. Implementing a system like this would have one major downside - the recommendations would be highly subjective in regard to the user adding the information and could also be outdated quickly if not updated regurlarly. \n",
    "\n",
    "A general feature that would be very valuable for the OpenStreetMap Community to have is visualized information, which parts of the city have been updated recently and which parts could need additional updates? One way to display this could be a heatmap showing how a region has been updated (frequency / time). The benefit for the community would be to quickly see which regions to focus on for maximum benefit of overall map quality."
   ]
  },
  {
   "cell_type": "markdown",
   "metadata": {
    "collapsed": true
   },
   "source": [
    "### References"
   ]
  },
  {
   "cell_type": "markdown",
   "metadata": {},
   "source": [
    "Udacity Discussion Forum (extensively)<br>\n",
    "<a href=\"https://docs.python.org/2/library/os.path.html\">Python Docs - os.path</a><br>\n",
    "<a href=\"http://www.w3schools.com/sql/\">w3schools - SQL</a><br>\n",
    "<a href=\"https://www.stackoverflow.com\">Stackoverflow Forum</a><br>\n",
    "<a href=\"https://regex101.com\">Regex101</a><br>\n",
    "<a href=\"https://gist.github.com/carlward/54ec1c91b62a5f911c42#file-sample_project-md\">Github - Sample Project</a>\n"
   ]
  }
 ],
 "metadata": {
  "anaconda-cloud": {},
  "kernelspec": {
   "display_name": "Python [Root]",
   "language": "python",
   "name": "Python [Root]"
  },
  "language_info": {
   "codemirror_mode": {
    "name": "ipython",
    "version": 2
   },
   "file_extension": ".py",
   "mimetype": "text/x-python",
   "name": "python",
   "nbconvert_exporter": "python",
   "pygments_lexer": "ipython2",
   "version": "2.7.12"
  }
 },
 "nbformat": 4,
 "nbformat_minor": 0
}
